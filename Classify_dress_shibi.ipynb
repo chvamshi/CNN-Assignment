{
  "nbformat": 4,
  "nbformat_minor": 0,
  "metadata": {
    "colab": {
      "name": "CNN.ipynb",
      "provenance": [],
      "collapsed_sections": []
    },
    "kernelspec": {
      "name": "python3",
      "display_name": "Python 3"
    },
    "language_info": {
      "name": "python"
    }
  },
  "cells": [
    {
      "cell_type": "code",
      "metadata": {
        "colab": {
          "base_uri": "https://localhost:8080/"
        },
        "id": "xG1pQSSqBUEx",
        "outputId": "7fb45de1-4e6c-43fb-828c-6c755a135235"
      },
      "source": [
        "from google.colab import drive\n",
        "drive.mount(\"/content/drive\")\n",
        "!pwd"
      ],
      "execution_count": null,
      "outputs": [
        {
          "output_type": "stream",
          "text": [
            "Drive already mounted at /content/drive; to attempt to forcibly remount, call drive.mount(\"/content/drive\", force_remount=True).\n",
            "/content\n"
          ],
          "name": "stdout"
        }
      ]
    },
    {
      "cell_type": "code",
      "metadata": {
        "id": "vO6vuoo6oWqr"
      },
      "source": [
        "# Importing modules\n",
        "\n",
        "import torch\n",
        "import numpy as np\n",
        "import matplotlib.pyplot as plt\n",
        "import pandas as pd\n",
        "\n",
        "from sklearn.model_selection import train_test_split\n",
        "\n",
        "from torch import nn\n",
        "from torch.utils.data import Dataset, DataLoader\n",
        "from torchvision.transforms import ToTensor\n",
        "from zipfile import ZipFile\n",
        "\n",
        "from sklearn.metrics import accuracy_score\n",
        "from sklearn.metrics import confusion_matrix\n",
        "from sklearn.metrics import classification_report\n",
        "from sklearn.metrics import mean_squared_error\n",
        "import seaborn as sns"
      ],
      "execution_count": null,
      "outputs": []
    },
    {
      "cell_type": "code",
      "metadata": {
        "id": "o3GhhnjksHKn"
      },
      "source": [
        "# Loading zip image files - for extracting images\n",
        "\n",
        "class LoadDataModule(object):\n",
        "    def __init__(self):\n",
        "        self.DIR = '/content/drive/MyDrive/datasets/DL_images/'\n",
        "    \n",
        "    # Returns images and labels corresponding for training and testing. Default mode is train. \n",
        "    # For retrieving test data pass mode as 'test' in function call.\n",
        "    def load(self, mode = 'train'):\n",
        "        label_filename = mode + '_labels'\n",
        "        image_filename = mode + '_images'\n",
        "        label_zip = self.DIR + label_filename + '.zip'\n",
        "        image_zip = self.DIR + image_filename + '.zip'\n",
        "        with ZipFile(label_zip, 'r') as lblzip:\n",
        "            labels = np.frombuffer(lblzip.read(label_filename), dtype=np.uint8, offset=8)\n",
        "        with ZipFile(image_zip, 'r') as imgzip:\n",
        "            images = np.frombuffer(imgzip.read(image_filename), dtype=np.uint8, offset=16).reshape(len(labels), 784)\n",
        "        return images, labels"
      ],
      "execution_count": null,
      "outputs": []
    },
    {
      "cell_type": "code",
      "metadata": {
        "id": "FLN1e8QgsVn5"
      },
      "source": [
        "# Defining image dataset\n",
        "\n",
        "class ImagesDataset(Dataset):\n",
        "    def __init__(self, images, labels, transform=None, label_transform=None):\n",
        "        self.images = images\n",
        "        self.labels = labels.astype(\"long\")\n",
        "        self.transform = transform\n",
        "        self.label_transform = label_transform\n",
        "    \n",
        "    def __len__(self):\n",
        "        return len(self.labels)\n",
        "    \n",
        "    def __getitem__(self, idx):\n",
        "        image = self.images[idx, :]\n",
        "        label = self.labels[idx]\n",
        "        image = np.reshape(image, (28,28))\n",
        "        if self.transform != None:\n",
        "            image = self.transform(image)\n",
        "        if self.label_transform != None:\n",
        "            label = self.label_transform(label)\n",
        "        return image, label"
      ],
      "execution_count": null,
      "outputs": []
    },
    {
      "cell_type": "code",
      "metadata": {
        "id": "pY6xa0e-Di3T",
        "colab": {
          "base_uri": "https://localhost:8080/"
        },
        "outputId": "7f05f6c1-65e7-4ce6-a179-ef0afdd7f4dc"
      },
      "source": [
        "# Getting datasets\n",
        "\n",
        "data_module = LoadDataModule()\n",
        "\n",
        "train_data, train_labels = data_module.load(\"train\")        # 60,000 images - (28,28) flattened to 784 - value (0, 255)\n",
        "X_test, y_test = data_module.load(\"test\")                   # 10,000 images - (28,28) flattened to 784 - value (0, 255)\n",
        "\n",
        "\n",
        "X_train, X_val, y_train, y_val = train_test_split(train_data, train_labels, test_size=0.2)\n",
        "\n",
        "\n",
        "training_data = ImagesDataset(X_train, y_train, transform=ToTensor())         # 48,000 images - (28,28) flattened to 784 - value (0, 255)\n",
        "validation_data = ImagesDataset(X_val, y_val, transform=ToTensor())           # 12,000 images - (28,28) flattened to 784 - value (0, 255)\n",
        "testing_data = ImagesDataset(X_test, y_test, transform=ToTensor())            # 10,000 images - (28,28) flattened to 784 - value (0, 255)\n",
        "\n",
        "print(\"Training dataset count:\", len(training_data), \"\\nImage size:\", training_data[0][0].shape[1:], end=\"\\n\\n\")\n",
        "print(\"Validation dataset count:\", len(validation_data), \"\\nImage size:\", validation_data[0][0].shape[1:], end=\"\\n\\n\")\n",
        "print(\"Testing dataset count:\", len(testing_data), \"\\nImage size:\", testing_data[0][0].shape[1:], end=\"\\n\\n\")\n",
        "\n",
        "# Final dataset for model use\n",
        "training_dataset = DataLoader(training_data, batch_size=200)\n",
        "validation_dataset = DataLoader(validation_data, batch_size=200)\n",
        "testing_dataset = DataLoader(testing_data, batch_size=200)\n",
        "\n",
        "classes = (\"TShirt/Top\", \"Trousers\", \"Pullover\", \"Dress\", \"Coat\", \"Sandal\", \"Shirt\", \"Sneaker\", \"Bag\", \"Ankle boot\")"
      ],
      "execution_count": null,
      "outputs": [
        {
          "output_type": "stream",
          "text": [
            "Training dataset count: 48000 \n",
            "Image size: torch.Size([28, 28])\n",
            "\n",
            "Validation dataset count: 12000 \n",
            "Image size: torch.Size([28, 28])\n",
            "\n",
            "Testing dataset count: 10000 \n",
            "Image size: torch.Size([28, 28])\n",
            "\n"
          ],
          "name": "stdout"
        },
        {
          "output_type": "stream",
          "text": [
            "/usr/local/lib/python3.7/dist-packages/torchvision/transforms/functional.py:114: UserWarning: The given NumPy array is not writeable, and PyTorch does not support non-writeable tensors. This means you can write to the underlying (supposedly non-writeable) NumPy array using the tensor. You may want to copy the array to protect its data or make it writeable before converting it to a tensor. This type of warning will be suppressed for the rest of this program. (Triggered internally at  /pytorch/torch/csrc/utils/tensor_numpy.cpp:143.)\n",
            "  img = torch.from_numpy(pic.transpose((2, 0, 1))).contiguous()\n"
          ],
          "name": "stderr"
        }
      ]
    },
    {
      "cell_type": "code",
      "metadata": {
        "id": "PxJW0prxE3aA"
      },
      "source": [
        "# Defining model\n",
        "\n",
        "class ImageClassifier(nn.Module):\n",
        "    def __init__(self):\n",
        "        super(ImageClassifier, self).__init__()\n",
        "        self.flatten = nn.Flatten()\n",
        "        self.cnn_layers = nn.Sequential(\n",
        "            # first Conv2d layer\n",
        "            nn.Conv2d(1, 2, kernel_size=3, stride=1),\n",
        "            nn.Sigmoid(),\n",
        "            nn.MaxPool2d(kernel_size=2),\n",
        "            \n",
        "            # second Conv2d layer\n",
        "            nn.Conv2d(2, 2, kernel_size=3, stride=1),\n",
        "            nn.ReLU(),\n",
        "            nn.MaxPool2d(kernel_size=2),\n",
        "        )\n",
        "        self.linear_layer = nn.Sequential(\n",
        "            nn.Linear(50, 50),\n",
        "            nn.Tanh(),\n",
        "            nn.Linear(50, 10),          # 50 ip - 50 - 10 op\n",
        "            nn.LogSoftmax(dim=-1)\n",
        "        )\n",
        "\n",
        "    def forward(self, x):\n",
        "        x = self.cnn_layers(x)\n",
        "        x = self.flatten(x)\n",
        "        res = self.linear_layer(x)\n",
        "        return res"
      ],
      "execution_count": null,
      "outputs": []
    },
    {
      "cell_type": "code",
      "metadata": {
        "colab": {
          "base_uri": "https://localhost:8080/"
        },
        "id": "NWnEEIkUUQJ8",
        "outputId": "4699c393-a540-4021-ac26-b7ef1eb22ea5"
      },
      "source": [
        "# Creating model\n",
        "\n",
        "model = ImageClassifier()\n",
        "optimizer = torch.optim.Adam(model.parameters(), lr=0.001)\n",
        "loss_fn = torch.nn.CrossEntropyLoss()\n",
        "\n",
        "model"
      ],
      "execution_count": null,
      "outputs": [
        {
          "output_type": "execute_result",
          "data": {
            "text/plain": [
              "ImageClassifier(\n",
              "  (flatten): Flatten(start_dim=1, end_dim=-1)\n",
              "  (cnn_layers): Sequential(\n",
              "    (0): Conv2d(1, 2, kernel_size=(3, 3), stride=(1, 1))\n",
              "    (1): Sigmoid()\n",
              "    (2): MaxPool2d(kernel_size=2, stride=2, padding=0, dilation=1, ceil_mode=False)\n",
              "    (3): Conv2d(2, 2, kernel_size=(3, 3), stride=(1, 1))\n",
              "    (4): ReLU()\n",
              "    (5): MaxPool2d(kernel_size=2, stride=2, padding=0, dilation=1, ceil_mode=False)\n",
              "  )\n",
              "  (linear_layer): Sequential(\n",
              "    (0): Linear(in_features=50, out_features=50, bias=True)\n",
              "    (1): Tanh()\n",
              "    (2): Linear(in_features=50, out_features=10, bias=True)\n",
              "    (3): LogSoftmax(dim=-1)\n",
              "  )\n",
              ")"
            ]
          },
          "metadata": {
            "tags": []
          },
          "execution_count": 7
        }
      ]
    },
    {
      "cell_type": "code",
      "metadata": {
        "id": "7CqbNPcEVtA1"
      },
      "source": [
        "# Defining Training and testing\n",
        "\n",
        "def train(model, optimizer, dataloader, loss_fn):\n",
        "    size = len(dataloader.dataset)\n",
        "    train_losses = []\n",
        "    train_accuracies = []\n",
        "\n",
        "    for batch, (X, y) in enumerate(dataloader):\n",
        "        pred = model(X)\n",
        "        loss = loss_fn(pred, y)\n",
        "        train_losses.append(loss)\n",
        "        prediction = pred.argmax(1)\n",
        "        # train_accuracies.append((prediction == y).float().sum())\n",
        "        train_accuracies.append(accuracy_score(y, prediction))\n",
        "\n",
        "        # Learning\n",
        "        optimizer.zero_grad()\n",
        "        loss.backward()\n",
        "        optimizer.step()\n",
        "\n",
        "        # if batch % 10 == 0:\n",
        "        #     loss, current = loss.item(), batch * len(X)\n",
        "        #     print(f\"loss: {loss:>7f}  [{current:>5d}/{size:>5d}]\")\n",
        "    avg_loss = sum(train_losses) / len(train_losses)\n",
        "    avg_accuracy = sum(train_accuracies) / len(train_accuracies)\n",
        "    return (avg_loss, avg_accuracy)\n",
        "\n",
        "def validation(model, dataloader, loss_fn):\n",
        "    size = len(dataloader.dataset)\n",
        "    val_losses = []\n",
        "    val_accuracies = []\n",
        "\n",
        "    with torch.no_grad():\n",
        "        for batch, (X, y) in enumerate(dataloader):\n",
        "            pred = model(X)\n",
        "            loss = loss_fn(pred, y)\n",
        "            val_losses.append(loss)\n",
        "            prediction = pred.argmax(1)\n",
        "            val_accuracies.append(accuracy_score(prediction, y))\n",
        "\n",
        "            # if batch % 10 == 0:\n",
        "            #     loss, current = loss.item(), batch * len(X)\n",
        "            #     print(f\"loss: {loss:>7f}  [{current:>5d}/{size:>5d}]\")\n",
        "    avg_loss = sum(val_losses) / len(val_losses)\n",
        "    avg_accuracy = sum(val_accuracies) / len(val_accuracies)\n",
        "    return (avg_loss, avg_accuracy)\n",
        "\n",
        "def test(model, dataloader, classes, loss_fn):\n",
        "    model.eval()\n",
        "    prediction_classes = []\n",
        "    predictions = []\n",
        "    test_losses = []\n",
        "    with torch.no_grad():\n",
        "        for batch, (X, y) in enumerate(dataloader):\n",
        "            pred = model(X)\n",
        "            loss = \n",
        "            prediction = pred.argmax(1)\n",
        "            predictions.extend(prediction)\n",
        "            prediction_classes.extend([classes[pred_val] for pred_val in prediction])\n",
        "    return (predictions, prediction_classes)"
      ],
      "execution_count": null,
      "outputs": []
    },
    {
      "cell_type": "code",
      "metadata": {
        "id": "TGTa7LFZa6VN",
        "colab": {
          "base_uri": "https://localhost:8080/"
        },
        "outputId": "fe7ed256-ecd3-4e16-e3d9-ed66c18d3dd6"
      },
      "source": [
        "# Training and validation\n",
        "epochs = 20\n",
        "train_avg_losses = []\n",
        "val_avg_losses = []\n",
        "\n",
        "train_avg_accuracies = []\n",
        "val_avg_accuracies = []\n",
        "\n",
        "for i in range(1, epochs+1):\n",
        "    (train_avg_loss, train_avg_acc) = train(model, optimizer, training_dataset, loss_fn)\n",
        "    (val_avg_loss, val_avg_acc) = validation(model, validation_dataset, loss_fn)\n",
        "    print(\"=\"*20)\n",
        "    print(f\"Epoch: {i}\")\n",
        "    print(f\"Train loss avg: {train_avg_loss}\")\n",
        "    print(f\"Val loss avg: {val_avg_loss}\")\n",
        "    print(\"-\"*20)\n",
        "    print(f\"Train accuracy avg: {train_avg_acc}\")\n",
        "    print(f\"Val accuracy avg: {val_avg_acc}\")\n",
        "\n",
        "\n",
        "    train_avg_losses.append(train_avg_loss)\n",
        "    val_avg_losses.append(val_avg_loss)\n",
        "\n",
        "    train_avg_accuracies.append(train_avg_acc)\n",
        "    val_avg_accuracies.append(val_avg_acc)\n"
      ],
      "execution_count": null,
      "outputs": [
        {
          "output_type": "stream",
          "text": [
            "====================\n",
            "Epoch: 1\n",
            "Train loss avg: 1.5404127836227417\n",
            "Val loss avg: 0.852124810218811\n",
            "--------------------\n",
            "Train accuracy avg: 0.5009374999999998\n",
            "Val accuracy avg: 0.7036666666666668\n",
            "====================\n",
            "Epoch: 2\n",
            "Train loss avg: 0.768418550491333\n",
            "Val loss avg: 0.7145063281059265\n",
            "--------------------\n",
            "Train accuracy avg: 0.7222916666666664\n",
            "Val accuracy avg: 0.7391666666666663\n",
            "====================\n",
            "Epoch: 3\n",
            "Train loss avg: 0.6949892640113831\n",
            "Val loss avg: 0.6724384427070618\n",
            "--------------------\n",
            "Train accuracy avg: 0.7409791666666662\n",
            "Val accuracy avg: 0.7512500000000002\n",
            "====================\n",
            "Epoch: 4\n",
            "Train loss avg: 0.6623691320419312\n",
            "Val loss avg: 0.6460570693016052\n",
            "--------------------\n",
            "Train accuracy avg: 0.7523541666666664\n",
            "Val accuracy avg: 0.76075\n",
            "====================\n",
            "Epoch: 5\n",
            "Train loss avg: 0.638537585735321\n",
            "Val loss avg: 0.624318540096283\n",
            "--------------------\n",
            "Train accuracy avg: 0.7602291666666665\n",
            "Val accuracy avg: 0.7685833333333328\n",
            "====================\n",
            "Epoch: 6\n",
            "Train loss avg: 0.618019700050354\n",
            "Val loss avg: 0.6048890948295593\n",
            "--------------------\n",
            "Train accuracy avg: 0.768458333333333\n",
            "Val accuracy avg: 0.7726666666666666\n",
            "====================\n",
            "Epoch: 7\n",
            "Train loss avg: 0.5991833806037903\n",
            "Val loss avg: 0.5869300365447998\n",
            "--------------------\n",
            "Train accuracy avg: 0.7758125\n",
            "Val accuracy avg: 0.7785833333333331\n",
            "====================\n",
            "Epoch: 8\n",
            "Train loss avg: 0.5816516876220703\n",
            "Val loss avg: 0.570275068283081\n",
            "--------------------\n",
            "Train accuracy avg: 0.7828958333333332\n",
            "Val accuracy avg: 0.7850833333333331\n",
            "====================\n",
            "Epoch: 9\n",
            "Train loss avg: 0.5653321146965027\n",
            "Val loss avg: 0.5549831986427307\n",
            "--------------------\n",
            "Train accuracy avg: 0.7883541666666664\n",
            "Val accuracy avg: 0.7894166666666671\n",
            "====================\n",
            "Epoch: 10\n",
            "Train loss avg: 0.5503615140914917\n",
            "Val loss avg: 0.5410478711128235\n",
            "--------------------\n",
            "Train accuracy avg: 0.7939999999999999\n",
            "Val accuracy avg: 0.7935833333333335\n",
            "====================\n",
            "Epoch: 11\n",
            "Train loss avg: 0.53670734167099\n",
            "Val loss avg: 0.5285446047782898\n",
            "--------------------\n",
            "Train accuracy avg: 0.7994999999999999\n",
            "Val accuracy avg: 0.7986666666666669\n",
            "====================\n",
            "Epoch: 12\n",
            "Train loss avg: 0.5243878960609436\n",
            "Val loss avg: 0.5177700519561768\n",
            "--------------------\n",
            "Train accuracy avg: 0.8045625000000007\n",
            "Val accuracy avg: 0.8030833333333333\n",
            "====================\n",
            "Epoch: 13\n",
            "Train loss avg: 0.5136610865592957\n",
            "Val loss avg: 0.5084782242774963\n",
            "--------------------\n",
            "Train accuracy avg: 0.8081249999999998\n",
            "Val accuracy avg: 0.8085833333333331\n",
            "====================\n",
            "Epoch: 14\n",
            "Train loss avg: 0.5041808485984802\n",
            "Val loss avg: 0.5003467798233032\n",
            "--------------------\n",
            "Train accuracy avg: 0.8113541666666666\n",
            "Val accuracy avg: 0.8138333333333333\n",
            "====================\n",
            "Epoch: 15\n",
            "Train loss avg: 0.4957253634929657\n",
            "Val loss avg: 0.49323663115501404\n",
            "--------------------\n",
            "Train accuracy avg: 0.8141249999999995\n",
            "Val accuracy avg: 0.8169166666666664\n",
            "====================\n",
            "Epoch: 16\n",
            "Train loss avg: 0.48817160725593567\n",
            "Val loss avg: 0.48709386587142944\n",
            "--------------------\n",
            "Train accuracy avg: 0.8173333333333328\n",
            "Val accuracy avg: 0.8188333333333334\n",
            "====================\n",
            "Epoch: 17\n",
            "Train loss avg: 0.48136940598487854\n",
            "Val loss avg: 0.4816954731941223\n",
            "--------------------\n",
            "Train accuracy avg: 0.8196250000000002\n",
            "Val accuracy avg: 0.8215833333333332\n",
            "====================\n",
            "Epoch: 18\n",
            "Train loss avg: 0.47520315647125244\n",
            "Val loss avg: 0.47682711482048035\n",
            "--------------------\n",
            "Train accuracy avg: 0.8221041666666667\n",
            "Val accuracy avg: 0.8241666666666664\n",
            "====================\n",
            "Epoch: 19\n",
            "Train loss avg: 0.46955764293670654\n",
            "Val loss avg: 0.4723855257034302\n",
            "--------------------\n",
            "Train accuracy avg: 0.8240416666666669\n",
            "Val accuracy avg: 0.8260833333333337\n",
            "====================\n",
            "Epoch: 20\n",
            "Train loss avg: 0.46434229612350464\n",
            "Val loss avg: 0.4683029055595398\n",
            "--------------------\n",
            "Train accuracy avg: 0.8263749999999997\n",
            "Val accuracy avg: 0.8281666666666663\n"
          ],
          "name": "stdout"
        }
      ]
    },
    {
      "cell_type": "code",
      "metadata": {
        "colab": {
          "base_uri": "https://localhost:8080/",
          "height": 265
        },
        "id": "AWxrwDN29jon",
        "outputId": "29d1b997-e8fb-496c-fc4e-9bd9603f168f"
      },
      "source": [
        "# Model metrics and performance\n",
        "epochs_range = [i for i in range(1,epochs+1)]\n",
        "plt.plot(epochs_range, train_avg_losses)\n",
        "plt.plot(epochs_range, val_avg_losses)\n",
        "plt.show()"
      ],
      "execution_count": null,
      "outputs": [
        {
          "output_type": "display_data",
          "data": {
            "image/png": "[encoded data removed]",
            "text/plain": [
              "<Figure size 432x288 with 1 Axes>"
            ]
          },
          "metadata": {
            "tags": [],
            "needs_background": "light"
          }
        }
      ]
    },
    {
      "cell_type": "code",
      "metadata": {
        "colab": {
          "base_uri": "https://localhost:8080/",
          "height": 265
        },
        "id": "LJYSCAACXZpb",
        "outputId": "f8dfe652-1101-4948-babd-1a287c446203"
      },
      "source": [
        "# Accuracy score\n",
        "\n",
        "epochs_range = [i for i in range(1,epochs+1)]\n",
        "plt.plot(epochs_range, train_avg_accuracies)\n",
        "plt.plot(epochs_range, val_avg_accuracies)\n",
        "plt.show()"
      ],
      "execution_count": null,
      "outputs": [
        {
          "output_type": "display_data",
          "data": {
            "image/png": "[encoded data removed]",
            "text/plain": [
              "<Figure size 432x288 with 1 Axes>"
            ]
          },
          "metadata": {
            "tags": [],
            "needs_background": "light"
          }
        }
      ]
    },
    {
      "cell_type": "code",
      "metadata": {
        "id": "aymucR2xbFMZ",
        "colab": {
          "base_uri": "https://localhost:8080/",
          "height": 1000
        },
        "outputId": "08098c2c-3aac-4a49-b48e-a2b43c1987d8"
      },
      "source": [
        "# Testing with new dataset\n",
        "\n",
        "(prediction, prediction_classes) = test(model, testing_dataset, classes)\n",
        "\n",
        "for i in range(5):\n",
        "    print(f\"predicted class - actual class: {prediction_classes[i]} - {classes[testing_data[i][1]]}\")\n",
        "\n",
        "\n",
        "print(\"\\n\")\n",
        "\n",
        "\n",
        "accuracy = accuracy_score(y_test, prediction)\n",
        "print(f\"Accuracy: {accuracy}\")\n",
        "\n",
        "\n",
        "print(\"\\n\")\n",
        "\n",
        "\n",
        "mse = mean_squared_error(y_test, prediction)\n",
        "print(\"Mean squared Error:\", mse)\n",
        "\n",
        "\n",
        "print(\"\\n\")\n",
        "\n",
        "\n",
        "report = classification_report(y_test, prediction)\n",
        "print(\"Classification report:\")\n",
        "print(report)\n",
        "\n",
        "\n",
        "print(\"\\n\")\n",
        "\n",
        "\n",
        "confusion = confusion_matrix(y_test, prediction)\n",
        "print(confusion)\n",
        "\n",
        "\n",
        "print(\"\\n\")\n",
        "\n",
        "plt.figure(figsize=(10,8))\n",
        "sns.heatmap(confusion, cmap=\"Blues\", annot=True, fmt=\" \")"
      ],
      "execution_count": null,
      "outputs": [
        {
          "output_type": "stream",
          "text": [
            "predicted class - actual class: Ankle boot - Ankle boot\n",
            "predicted class - actual class: Pullover - Pullover\n",
            "predicted class - actual class: Trousers - Trousers\n",
            "predicted class - actual class: Trousers - Trousers\n",
            "predicted class - actual class: Pullover - Shirt\n",
            "\n",
            "\n",
            "Accuracy: 0.8168\n",
            "\n",
            "\n",
            "Mean squared Error: 2.2696\n",
            "\n",
            "\n",
            "Classification report:\n",
            "              precision    recall  f1-score   support\n",
            "\n",
            "           0       0.76      0.78      0.77      1000\n",
            "           1       0.95      0.95      0.95      1000\n",
            "           2       0.66      0.72      0.69      1000\n",
            "           3       0.79      0.86      0.82      1000\n",
            "           4       0.68      0.73      0.70      1000\n",
            "           5       0.93      0.92      0.93      1000\n",
            "           6       0.60      0.40      0.48      1000\n",
            "           7       0.91      0.91      0.91      1000\n",
            "           8       0.92      0.95      0.93      1000\n",
            "           9       0.93      0.94      0.94      1000\n",
            "\n",
            "    accuracy                           0.82     10000\n",
            "   macro avg       0.81      0.82      0.81     10000\n",
            "weighted avg       0.81      0.82      0.81     10000\n",
            "\n",
            "\n",
            "\n",
            "[[784  14  33  73   6   2  69   0  19   0]\n",
            " [  2 951   1  33   4   0   8   0   1   0]\n",
            " [ 12   2 724  15 158   0  76   0  13   0]\n",
            " [ 31  27  22 856  34   0  26   0   4   0]\n",
            " [  0   3 136  50 731   0  68   0  12   0]\n",
            " [  0   0   0   1   0 923   0  47   5  24]\n",
            " [199   5 172  50 142   2 398   0  32   0]\n",
            " [  0   0   0   0   0  46   0 908   0  46]\n",
            " [  0   2  13   2   5  10  15   3 949   1]\n",
            " [  0   0   0   0   0  11   0  45   0 944]]\n",
            "\n",
            "\n"
          ],
          "name": "stdout"
        },
        {
          "output_type": "execute_result",
          "data": {
            "text/plain": [
              "<matplotlib.axes._subplots.AxesSubplot at 0x7f386e2b8850>"
            ]
          },
          "metadata": {
            "tags": []
          },
          "execution_count": 33
        },
        {
          "output_type": "display_data",
          "data": {
            "image/png": "[encoded data removed]",
            "text/plain": [
              "<Figure size 720x576 with 2 Axes>"
            ]
          },
          "metadata": {
            "tags": [],
            "needs_background": "light"
          }
        }
      ]
    }
  ]
}