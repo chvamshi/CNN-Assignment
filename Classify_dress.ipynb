{
 "cells": [
  {
   "cell_type": "code",
   "execution_count": 25,
   "metadata": {
    "colab": {
     "base_uri": "https://localhost:8080/"
    },
    "id": "INBrUS6pjQEp",
    "outputId": "649ffa62-7897-44de-8c22-ae6d28f4f31e"
   },
   "outputs": [
    {
     "name": "stdout",
     "output_type": "stream",
     "text": [
      "Drive already mounted at /content/drive; to attempt to forcibly remount, call drive.mount(\"/content/drive\", force_remount=True).\n"
     ]
    }
   ],
   "source": [
    "from google.colab import drive\n",
    "drive.mount('/content/drive')"
   ]
  },
  {
   "cell_type": "code",
   "execution_count": 26,
   "metadata": {
    "id": "x5EePPUpjTt9"
   },
   "outputs": [],
   "source": [
    "# Import required modules\n",
    "\n",
    "import torch\n",
    "import torch.nn as nn\n",
    "import torch.nn.functional as F\n",
    "import torch.optim as optim\n",
    "\n",
    "import numpy as np\n",
    "import matplotlib.pyplot as plt\n",
    "\n",
    "from torchvision import transforms, utils\n",
    "from torchvision.transforms import ToTensor\n",
    "from torch.utils.data import Dataset, DataLoader\n",
    "\n",
    "from sklearn.model_selection import train_test_split\n",
    "from sklearn.metrics import accuracy_score\n",
    "from sklearn.metrics import confusion_matrix\n",
    "from sklearn.metrics import classification_report\n",
    "from sklearn.metrics import mean_squared_error\n",
    "\n",
    "from zipfile import ZipFile \n",
    "\n",
    "# Ignore warnings\n",
    "import warnings\n",
    "warnings.filterwarnings(\"ignore\")\n",
    "\n",
    "plt.ion() # Interactive mode"
   ]
  },
  {
   "cell_type": "code",
   "execution_count": 27,
   "metadata": {
    "id": "2njdekz5lUBu"
   },
   "outputs": [],
   "source": [
    "# For extracting the zip files\n",
    "\n",
    "class LoadDataModule(object):\n",
    "    def __init__(self):\n",
    "        self.DIR = '/content/drive/MyDrive/Colab Notebooks/DL/CNN/CNN Assignment/'\n",
    "        pass\n",
    "    \n",
    "    # Returns images and labels corresponding for training and testing. Default mode is train. \n",
    "    # For retrieving test data pass mode as 'test' in function call.\n",
    "    def load(self, mode = 'train'):\n",
    "        label_filename = mode + '_labels'\n",
    "        image_filename = mode + '_images'\n",
    "        label_zip = self.DIR + label_filename + '.zip'\n",
    "        image_zip = self.DIR + image_filename + '.zip'\n",
    "        with ZipFile(label_zip, 'r') as lblzip:\n",
    "            labels = np.frombuffer(lblzip.read(label_filename), dtype=np.uint8, offset=8)\n",
    "        with ZipFile(image_zip, 'r') as imgzip:\n",
    "            images = np.frombuffer(imgzip.read(image_filename), dtype=np.uint8, offset=16).reshape(len(labels), 784)\n",
    "        return images, labels\n"
   ]
  },
  {
   "cell_type": "code",
   "execution_count": 28,
   "metadata": {
    "id": "Ue--IcjemHvt"
   },
   "outputs": [],
   "source": [
    "# Create custom dataset\n",
    "\n",
    "class DressDataset(Dataset):\n",
    "  def __init__(self, images, labels, transform=None):\n",
    "    self.images = images\n",
    "    self.labels = labels.astype(\"long\")\n",
    "    self.transform = transform\n",
    "\n",
    "  def __getitem__(self,idx):\n",
    "    image =  np.reshape(self.images[idx],(28,28))\n",
    "    # sample = {'image': image, 'label': labels[idx]}\n",
    "    # sample = (image,labels[idx])\n",
    "    # image = ToTensor()\n",
    "    if self.transform:\n",
    "      image = self.transform(image)\n",
    "\n",
    "    return image,self.labels[idx]\n",
    "\n",
    "  def __len__(self):\n",
    "    return len(self.images)"
   ]
  },
  {
   "cell_type": "code",
   "execution_count": 29,
   "metadata": {
    "colab": {
     "base_uri": "https://localhost:8080/"
    },
    "id": "Cfe8x9dnmXCK",
    "outputId": "ec91fdaa-7ca2-4754-d008-60c8c5dfe440"
   },
   "outputs": [
    {
     "name": "stdout",
     "output_type": "stream",
     "text": [
      "Training Dataset Count: 48000 \n",
      "Image size: torch.Size([28, 28])\n",
      "\n",
      "Validation Dataset Count: 12000 \n",
      "Image size: torch.Size([28, 28])\n",
      "\n",
      "Test Dataset Count: 10000 \n",
      "Image size: torch.Size([28, 28])\n"
     ]
    }
   ],
   "source": [
    "# Retriving and splitting data\n",
    "\n",
    "data_module = LoadDataModule()\n",
    "\n",
    "train_images, train_labels = data_module.load(\"train\") # 60,000 images - (28,28) flattened to 784 - value (0, 255)\n",
    "test_images, test_labels = data_module.load(\"test\")    # 10,000 images - (28,28) flattened to 784 - value (0, 255)\n",
    "\n",
    "X_train, X_val, y_train, y_val = train_test_split(train_images, train_labels, test_size=0.2)\n",
    "\n",
    "training_dataset = DressDataset(X_train,y_train, transform=ToTensor())\n",
    "validation_dataset = DressDataset(X_val, y_val, transform=ToTensor())\n",
    "test_dataset = DressDataset(test_images, test_labels, transform=ToTensor())\n",
    "\n",
    "print(\"Training Dataset Count:\",len(training_dataset),\"\\nImage size:\",training_dataset[0][0].shape[1:],end=\"\\n\\n\")\n",
    "print(\"Validation Dataset Count:\",len(validation_dataset),\"\\nImage size:\",validation_dataset[0][0].shape[1:],end=\"\\n\\n\")\n",
    "print(\"Test Dataset Count:\",len(test_dataset),\"\\nImage size:\",test_dataset[0][0].shape[1:],end=\"\\n\")\n",
    "\n",
    "train_loader = DataLoader(training_dataset, batch_size=200)\n",
    "validation_loader = DataLoader(validation_dataset, batch_size=200)\n",
    "test_loader = DataLoader(test_dataset,batch_size=200)"
   ]
  },
  {
   "cell_type": "code",
   "execution_count": 30,
   "metadata": {
    "id": "E4S8VuUAm5Hz"
   },
   "outputs": [],
   "source": [
    "# Create network\n",
    "\n",
    "class CNN(nn.Module):\n",
    "  def __init__(self):\n",
    "    super().__init__()\n",
    "    self.conv1 = nn.Conv2d(1,2,kernel_size=3)\n",
    "    self.conv2 = nn.Conv2d(2,2,kernel_size=3)\n",
    "    self.pool = nn.MaxPool2d(2,2)\n",
    "    self.FC1 = nn.Linear(50,50)\n",
    "    self.FC2 = nn.Linear(50,10)\n",
    "\n",
    "  def forward(self,x):\n",
    "    x = self.pool(F.sigmoid(self.conv1(x)))\n",
    "    x = self.pool(F.relu(self.conv2(x)))\n",
    "    x = torch.flatten(x,1)\n",
    "    x = F.tanh(self.FC1(x))\n",
    "    x = F.log_softmax(self.FC2(x),dim=-1)\n",
    "\n",
    "    return x"
   ]
  },
  {
   "cell_type": "code",
   "execution_count": 31,
   "metadata": {
    "id": "ChpqaXBuryXG"
   },
   "outputs": [],
   "source": [
    "# Create model and select optimizer, loss function\n",
    "\n",
    "model = CNN()\n",
    "optimizer = optim.SGD(model.parameters(), lr=0.001, momentum=0.9, nesterov=True)\n",
    "loss_fn = nn.CrossEntropyLoss()\n",
    "\n",
    "if torch.cuda.is_available():\n",
    "    model = model.cuda()"
   ]
  },
  {
   "cell_type": "code",
   "execution_count": 53,
   "metadata": {
    "id": "zxMuAmJKtMmV"
   },
   "outputs": [],
   "source": [
    "def train(model, dataloader, optimizer, loss_fn):\n",
    "\n",
    "  size = len(dataloader.dataset)\n",
    "  train_losses = []\n",
    "  train_accuracies = []\n",
    "\n",
    "  for i, data in enumerate(dataloader):\n",
    "    inputs, labels = data\n",
    "\n",
    "    if torch.cuda.is_available():\n",
    "            inputs, labels = inputs.cuda(), labels.cuda()\n",
    "\n",
    "    optimizer.zero_grad()\n",
    "\n",
    "    outputs = model(inputs)\n",
    "    loss = loss_fn(outputs, labels)\n",
    "    loss.backward()\n",
    "\n",
    "    optimizer.step()\n",
    "\n",
    "    train_losses.append(loss.item())\n",
    "    train_accuracies.append(accuracy_score(labels, outputs.argmax(1).cpu()))\n",
    "\n",
    "  avg_loss = sum(train_losses) / len(train_losses)\n",
    "  avg_accuracy = sum(train_accuracies) / len(train_accuracies)\n",
    "\n",
    "  return avg_loss, avg_accuracy\n",
    "\n",
    "\n",
    "def validation(model, dataloader, loss_fn):\n",
    "  size = len(dataloader.dataset)\n",
    "  validation_losses = list()\n",
    "  validation_accuracies = list()\n",
    "\n",
    "  with torch.no_grad():\n",
    "    for i, data in enumerate(dataloader):\n",
    "      inputs, labels = data\n",
    "      if torch.cuda.is_available():\n",
    "        inputs, labels = inputs.cuda(), labels.cuda()\n",
    "      \n",
    "      outputs = model(inputs)\n",
    "      loss = loss_fn(outputs, labels)\n",
    "      accuracy = accuracy_score(labels, outputs.argmax(1))\n",
    "\n",
    "      validation_losses.append(loss)\n",
    "      validation_accuracies.append(accuracy)\n",
    "\n",
    "  validation_avg_loss = sum(validation_losses) / len(validation_losses)\n",
    "  validation_avg_accuracy = sum(validation_accuracies) / len(validation_accuracies)\n",
    "\n",
    "  return validation_avg_loss, validation_avg_accuracy\n",
    "\n",
    "def test(model, dataloader, loss_fn):\n",
    "    model.eval()\n",
    "    prediction_classes = []\n",
    "    predictions = []\n",
    "    test_losses = []\n",
    "    with torch.no_grad():\n",
    "        for batch, (X, y) in enumerate(dataloader):\n",
    "            pred = model(X)\n",
    "            loss = loss_fn(pred, y)\n",
    "            prediction = pred.argmax(1)\n",
    "            predictions.extend(prediction)\n",
    "            # prediction_classes.extend([classes[pred_val] for pred_val in prediction])\n",
    "    return predictions"
   ]
  },
  {
   "cell_type": "code",
   "execution_count": 44,
   "metadata": {
    "colab": {
     "base_uri": "https://localhost:8080/"
    },
    "id": "ac3moYuyxB_N",
    "outputId": "3ef6dbf8-9f9b-4f0f-cfdc-233e90ba33b7"
   },
   "outputs": [
    {
     "name": "stdout",
     "output_type": "stream",
     "text": [
      "Epoch  1\n",
      "Avg. Training loss:  0.5493084032088518\n",
      "Avg. Validation loss:  0.540633499622345\n",
      "--------------------\n",
      "Train accuracy avg. score:  0.79225\n",
      "Val. accuracy avg. validation:  0.7955833333333334\n",
      "====================\n",
      "Epoch  2\n",
      "Avg. Training loss:  0.5472876361260811\n",
      "Avg. Validation loss:  0.538756251335144\n",
      "--------------------\n",
      "Train accuracy avg. score:  0.7934791666666662\n",
      "Val. accuracy avg. validation:  0.7960833333333335\n",
      "====================\n",
      "Epoch  3\n",
      "Avg. Training loss:  0.5453104803959529\n",
      "Avg. Validation loss:  0.5369230508804321\n",
      "--------------------\n",
      "Train accuracy avg. score:  0.7944791666666665\n",
      "Val. accuracy avg. validation:  0.7970833333333336\n",
      "====================\n",
      "Epoch  4\n",
      "Avg. Training loss:  0.5433769904077053\n",
      "Avg. Validation loss:  0.535132110118866\n",
      "--------------------\n",
      "Train accuracy avg. score:  0.7950208333333328\n",
      "Val. accuracy avg. validation:  0.7973333333333333\n",
      "====================\n",
      "Epoch  5\n",
      "Avg. Training loss:  0.5414844308048486\n",
      "Avg. Validation loss:  0.5333836078643799\n",
      "--------------------\n",
      "Train accuracy avg. score:  0.7959583333333333\n",
      "Val. accuracy avg. validation:  0.7986666666666667\n",
      "====================\n",
      "Epoch  6\n",
      "Avg. Training loss:  0.5396297064920267\n",
      "Avg. Validation loss:  0.5316706895828247\n",
      "--------------------\n",
      "Train accuracy avg. score:  0.7967708333333334\n",
      "Val. accuracy avg. validation:  0.7990000000000002\n",
      "====================\n",
      "Epoch  7\n",
      "Avg. Training loss:  0.5378129068762064\n",
      "Avg. Validation loss:  0.5299948453903198\n",
      "--------------------\n",
      "Train accuracy avg. score:  0.7972291666666667\n",
      "Val. accuracy avg. validation:  0.7991666666666668\n",
      "====================\n",
      "Epoch  8\n",
      "Avg. Training loss:  0.5360329596946637\n",
      "Avg. Validation loss:  0.5283576846122742\n",
      "--------------------\n",
      "Train accuracy avg. score:  0.7976666666666666\n",
      "Val. accuracy avg. validation:  0.7995000000000003\n",
      "====================\n",
      "Epoch  9\n",
      "Avg. Training loss:  0.5342857679973047\n",
      "Avg. Validation loss:  0.5267562866210938\n",
      "--------------------\n",
      "Train accuracy avg. score:  0.798125\n",
      "Val. accuracy avg. validation:  0.8000833333333337\n",
      "====================\n",
      "Epoch  10\n",
      "Avg. Training loss:  0.5325728743026654\n",
      "Avg. Validation loss:  0.5251871347427368\n",
      "--------------------\n",
      "Train accuracy avg. score:  0.7991250000000003\n",
      "Val. accuracy avg. validation:  0.8002500000000005\n",
      "====================\n",
      "Epoch  11\n",
      "Avg. Training loss:  0.5308920749773581\n",
      "Avg. Validation loss:  0.5236490964889526\n",
      "--------------------\n",
      "Train accuracy avg. score:  0.7996875000000003\n",
      "Val. accuracy avg. validation:  0.8010833333333338\n",
      "====================\n",
      "Epoch  12\n",
      "Avg. Training loss:  0.5292429268360138\n",
      "Avg. Validation loss:  0.5221439003944397\n",
      "--------------------\n",
      "Train accuracy avg. score:  0.800354166666667\n",
      "Val. accuracy avg. validation:  0.8015833333333336\n",
      "====================\n",
      "Epoch  13\n",
      "Avg. Training loss:  0.527622272570928\n",
      "Avg. Validation loss:  0.5206693410873413\n",
      "--------------------\n",
      "Train accuracy avg. score:  0.8011458333333337\n",
      "Val. accuracy avg. validation:  0.8020833333333336\n",
      "====================\n",
      "Epoch  14\n",
      "Avg. Training loss:  0.5260310097287099\n",
      "Avg. Validation loss:  0.5192230939865112\n",
      "--------------------\n",
      "Train accuracy avg. score:  0.8017916666666667\n",
      "Val. accuracy avg. validation:  0.8018333333333333\n",
      "====================\n",
      "Epoch  15\n",
      "Avg. Training loss:  0.5244667140146096\n",
      "Avg. Validation loss:  0.5178032517433167\n",
      "--------------------\n",
      "Train accuracy avg. score:  0.8024791666666664\n",
      "Val. accuracy avg. validation:  0.8020833333333334\n",
      "====================\n",
      "Epoch  16\n",
      "Avg. Training loss:  0.5229257858047883\n",
      "Avg. Validation loss:  0.5164056420326233\n",
      "--------------------\n",
      "Train accuracy avg. score:  0.803104166666667\n",
      "Val. accuracy avg. validation:  0.8024999999999999\n",
      "====================\n",
      "Epoch  17\n",
      "Avg. Training loss:  0.5214077239235242\n",
      "Avg. Validation loss:  0.5150309801101685\n",
      "--------------------\n",
      "Train accuracy avg. score:  0.8038541666666669\n",
      "Val. accuracy avg. validation:  0.8029166666666667\n",
      "====================\n",
      "Epoch  18\n",
      "Avg. Training loss:  0.5199156478047371\n",
      "Avg. Validation loss:  0.5136826038360596\n",
      "--------------------\n",
      "Train accuracy avg. score:  0.80425\n",
      "Val. accuracy avg. validation:  0.8040000000000002\n",
      "====================\n",
      "Epoch  19\n",
      "Avg. Training loss:  0.5184455970923106\n",
      "Avg. Validation loss:  0.5123560428619385\n",
      "--------------------\n",
      "Train accuracy avg. score:  0.8048749999999999\n",
      "Val. accuracy avg. validation:  0.8040833333333334\n",
      "====================\n",
      "Epoch  20\n",
      "Avg. Training loss:  0.5169954640169938\n",
      "Avg. Validation loss:  0.5110546350479126\n",
      "--------------------\n",
      "Train accuracy avg. score:  0.8055416666666666\n",
      "Val. accuracy avg. validation:  0.8047500000000002\n",
      "====================\n"
     ]
    }
   ],
   "source": [
    "epoches = 20\n",
    "train_avg_losses = list()\n",
    "train_avg_accuracies = list()\n",
    "\n",
    "val_avg_losses = list()\n",
    "val_avg_accuracies = list()\n",
    "\n",
    "for epoch in range(1,epoches+1):\n",
    "  train_avg_loss, train_avg_accuracy = train(model, train_loader, optimizer, loss_fn)\n",
    "  val_avg_loss, val_avg_accuracy = validation(model, validation_loader, loss_fn)\n",
    "\n",
    "  train_avg_losses.append(train_avg_loss)\n",
    "  train_avg_accuracies.append(train_avg_accuracy)\n",
    "\n",
    "  val_avg_losses.append(val_avg_loss)\n",
    "  val_avg_accuracies.append(val_avg_accuracy)\n",
    "\n",
    "  print(\"Epoch \",epoch)\n",
    "  print(\"Avg. Training loss: \",train_avg_loss)\n",
    "  print(\"Avg. Validation loss: \",val_avg_loss.item())\n",
    "  print(\"-\"*20)\n",
    "  print(\"Train accuracy avg. score: \",train_avg_accuracy)\n",
    "  print(\"Val. accuracy avg. validation: \",val_avg_accuracy)\n",
    "  print(\"=\"*20)\n"
   ]
  },
  {
   "cell_type": "code",
   "execution_count": 45,
   "metadata": {
    "colab": {
     "base_uri": "https://localhost:8080/",
     "height": 265
    },
    "id": "c4E_OMNbyV4G",
    "outputId": "e7da8d2a-74e6-4f96-93b8-b06a2a4bfb1b"
   },
   "outputs": [
    {
     "data": {
      "image/png": "[encoded data removed]",
      "text/plain": [
       "<Figure size 432x288 with 1 Axes>"
      ]
     },
     "metadata": {
      "needs_background": "light",
      "tags": []
     },
     "output_type": "display_data"
    }
   ],
   "source": [
    "# Model metrics and performance\n",
    "epochs_range = [i for i in range(1,epoches+1)]\n",
    "plt.plot(epochs_range, train_avg_losses)\n",
    "plt.plot(epochs_range, val_avg_losses)\n",
    "plt.show()"
   ]
  },
  {
   "cell_type": "code",
   "execution_count": 46,
   "metadata": {
    "colab": {
     "base_uri": "https://localhost:8080/",
     "height": 266
    },
    "id": "_2IiYGhq-0f6",
    "outputId": "9e457a32-932b-425a-abd4-e679110b5fc2"
   },
   "outputs": [
    {
     "data": {
      "image/png": "[encoded data removed]",
      "text/plain": [
       "<Figure size 432x288 with 1 Axes>"
      ]
     },
     "metadata": {
      "needs_background": "light",
      "tags": []
     },
     "output_type": "display_data"
    }
   ],
   "source": [
    "# Accuracy score\n",
    "\n",
    "epochs_range = [i for i in range(1,epoches+1)]\n",
    "plt.plot(epochs_range, train_avg_accuracies)\n",
    "plt.plot(epochs_range, val_avg_accuracies)\n",
    "plt.show()"
   ]
  },
  {
   "cell_type": "code",
   "execution_count": 55,
   "metadata": {
    "colab": {
     "base_uri": "https://localhost:8080/"
    },
    "id": "Lh8OP67---OL",
    "outputId": "f4924504-e186-4b16-d17d-c7a66204f879"
   },
   "outputs": [
    {
     "name": "stdout",
     "output_type": "stream",
     "text": [
      "predicted class - actual class: 9 - 9\n",
      "predicted class - actual class: 2 - 2\n",
      "predicted class - actual class: 1 - 1\n",
      "predicted class - actual class: 1 - 1\n",
      "predicted class - actual class: 2 - 6\n",
      "\n",
      "\n",
      "Accuracy: 0.7973\n",
      "\n",
      "\n",
      "Mean squared Error: 2.3731\n",
      "\n",
      "\n",
      "Classification report:\n",
      "              precision    recall  f1-score   support\n",
      "\n",
      "           0       0.77      0.79      0.78      1000\n",
      "           1       0.95      0.94      0.95      1000\n",
      "           2       0.57      0.70      0.63      1000\n",
      "           3       0.80      0.84      0.82      1000\n",
      "           4       0.59      0.78      0.67      1000\n",
      "           5       0.94      0.90      0.92      1000\n",
      "           6       0.63      0.23      0.34      1000\n",
      "           7       0.90      0.90      0.90      1000\n",
      "           8       0.93      0.93      0.93      1000\n",
      "           9       0.91      0.95      0.93      1000\n",
      "\n",
      "    accuracy                           0.80     10000\n",
      "   macro avg       0.80      0.80      0.79     10000\n",
      "weighted avg       0.80      0.80      0.79     10000\n",
      "\n",
      "\n",
      "\n",
      "[[792  15  53  64   9   4  48   0  15   0]\n",
      " [  2 945   4  36   8   0   3   0   2   0]\n",
      " [  6   3 701  16 233   0  32   0   9   0]\n",
      " [ 23  20  44 842  52   0  15   0   3   1]\n",
      " [  1   3 139  33 783   1  31   0   9   0]\n",
      " [  0   0   0   3   0 899   0  60   5  33]\n",
      " [203   5 254  53 231   0 231   0  23   0]\n",
      " [  0   0   0   0   0  38   0 903   0  59]\n",
      " [  1   1  31   8  15   3   9   3 928   1]\n",
      " [  0   0   0   0   0  10   0  40   1 949]]\n"
     ]
    }
   ],
   "source": [
    "# Testing with new dataset\n",
    "\n",
    "predictions = test(model, test_loader, loss_fn)\n",
    "\n",
    "for i in range(5):\n",
    "    print(f\"predicted class - actual class: {predictions[i]} - {test_dataset[i][1]}\")\n",
    "\n",
    "\n",
    "print(\"\\n\")\n",
    "\n",
    "\n",
    "accuracy = accuracy_score(test_labels, predictions)\n",
    "print(f\"Accuracy: {accuracy}\")\n",
    "\n",
    "\n",
    "print(\"\\n\")\n",
    "\n",
    "\n",
    "mse = mean_squared_error(test_labels, predictions)\n",
    "print(\"Mean squared Error:\", mse)\n",
    "\n",
    "\n",
    "print(\"\\n\")\n",
    "\n",
    "\n",
    "report = classification_report(test_labels, predictions)\n",
    "print(\"Classification report:\")\n",
    "print(report)\n",
    "\n",
    "\n",
    "print(\"\\n\")\n",
    "\n",
    "\n",
    "confusion = confusion_matrix(test_labels, predictions)\n",
    "print(confusion)\n"
   ]
  },
  {
   "cell_type": "code",
   "execution_count": null,
   "metadata": {
    "id": "Pj49wUj4_N_M"
   },
   "outputs": [],
   "source": []
  }
 ],
 "metadata": {
  "colab": {
   "collapsed_sections": [],
   "name": "Classify dress.ipynb",
   "provenance": []
  },
  "kernelspec": {
   "display_name": "Python 3",
   "language": "python",
   "name": "python3"
  },
  "language_info": {
   "codemirror_mode": {
    "name": "ipython",
    "version": 3
   },
   "file_extension": ".py",
   "mimetype": "text/x-python",
   "name": "python",
   "nbconvert_exporter": "python",
   "pygments_lexer": "ipython3",
   "version": "3.7.10"
  }
 },
 "nbformat": 4,
 "nbformat_minor": 4
}
